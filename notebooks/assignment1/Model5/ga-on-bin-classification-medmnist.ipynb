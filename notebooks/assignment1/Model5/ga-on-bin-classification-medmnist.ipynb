{
 "cells": [
  {
   "cell_type": "code",
   "execution_count": null,
   "metadata": {
    "_cell_guid": "b1076dfc-b9ad-4769-8c92-a6c4dae69d19",
    "_uuid": "8f2839f25d086af736a60e9eeb907d3b93b6e0e5",
    "execution": {
     "iopub.execute_input": "2025-03-11T03:37:47.151578Z",
     "iopub.status.busy": "2025-03-11T03:37:47.151370Z",
     "iopub.status.idle": "2025-03-11T03:37:56.999575Z",
     "shell.execute_reply": "2025-03-11T03:37:56.998468Z",
     "shell.execute_reply.started": "2025-03-11T03:37:47.151551Z"
    },
    "trusted": true
   },
   "outputs": [
    {
     "name": "stdout",
     "output_type": "stream",
     "text": [
      "Collecting medmnist\n",
      "  Downloading medmnist-3.0.2-py3-none-any.whl.metadata (14 kB)\n",
      "Requirement already satisfied: numpy in /usr/local/lib/python3.10/dist-packages (from medmnist) (1.26.4)\n",
      "Requirement already satisfied: pandas in /usr/local/lib/python3.10/dist-packages (from medmnist) (2.2.3)\n",
      "Requirement already satisfied: scikit-learn in /usr/local/lib/python3.10/dist-packages (from medmnist) (1.2.2)\n",
      "Requirement already satisfied: scikit-image in /usr/local/lib/python3.10/dist-packages (from medmnist) (0.25.0)\n",
      "Requirement already satisfied: tqdm in /usr/local/lib/python3.10/dist-packages (from medmnist) (4.67.1)\n",
      "Requirement already satisfied: Pillow in /usr/local/lib/python3.10/dist-packages (from medmnist) (11.0.0)\n",
      "Collecting fire (from medmnist)\n",
      "  Downloading fire-0.7.0.tar.gz (87 kB)\n",
      "\u001b[2K     \u001b[90m━━━━━━━━━━━━━━━━━━━━━━━━━━━━━━━━━━━━━━━━\u001b[0m \u001b[32m87.2/87.2 kB\u001b[0m \u001b[31m5.0 MB/s\u001b[0m eta \u001b[36m0:00:00\u001b[0m\n",
      "\u001b[?25h  Preparing metadata (setup.py) ... \u001b[?25l\u001b[?25hdone\n",
      "Requirement already satisfied: torch in /usr/local/lib/python3.10/dist-packages (from medmnist) (2.5.1+cu121)\n",
      "Requirement already satisfied: torchvision in /usr/local/lib/python3.10/dist-packages (from medmnist) (0.20.1+cu121)\n",
      "Requirement already satisfied: termcolor in /usr/local/lib/python3.10/dist-packages (from fire->medmnist) (2.5.0)\n",
      "Requirement already satisfied: mkl_fft in /usr/local/lib/python3.10/dist-packages (from numpy->medmnist) (1.3.8)\n",
      "Requirement already satisfied: mkl_random in /usr/local/lib/python3.10/dist-packages (from numpy->medmnist) (1.2.4)\n",
      "Requirement already satisfied: mkl_umath in /usr/local/lib/python3.10/dist-packages (from numpy->medmnist) (0.1.1)\n",
      "Requirement already satisfied: mkl in /usr/local/lib/python3.10/dist-packages (from numpy->medmnist) (2025.0.1)\n",
      "Requirement already satisfied: tbb4py in /usr/local/lib/python3.10/dist-packages (from numpy->medmnist) (2022.0.0)\n",
      "Requirement already satisfied: mkl-service in /usr/local/lib/python3.10/dist-packages (from numpy->medmnist) (2.4.1)\n",
      "Requirement already satisfied: python-dateutil>=2.8.2 in /usr/local/lib/python3.10/dist-packages (from pandas->medmnist) (2.9.0.post0)\n",
      "Requirement already satisfied: pytz>=2020.1 in /usr/local/lib/python3.10/dist-packages (from pandas->medmnist) (2025.1)\n",
      "Requirement already satisfied: tzdata>=2022.7 in /usr/local/lib/python3.10/dist-packages (from pandas->medmnist) (2025.1)\n",
      "Requirement already satisfied: scipy>=1.11.2 in /usr/local/lib/python3.10/dist-packages (from scikit-image->medmnist) (1.13.1)\n",
      "Requirement already satisfied: networkx>=3.0 in /usr/local/lib/python3.10/dist-packages (from scikit-image->medmnist) (3.4.2)\n",
      "Requirement already satisfied: imageio!=2.35.0,>=2.33 in /usr/local/lib/python3.10/dist-packages (from scikit-image->medmnist) (2.36.1)\n",
      "Requirement already satisfied: tifffile>=2022.8.12 in /usr/local/lib/python3.10/dist-packages (from scikit-image->medmnist) (2024.12.12)\n",
      "Requirement already satisfied: packaging>=21 in /usr/local/lib/python3.10/dist-packages (from scikit-image->medmnist) (24.2)\n",
      "Requirement already satisfied: lazy-loader>=0.4 in /usr/local/lib/python3.10/dist-packages (from scikit-image->medmnist) (0.4)\n",
      "Requirement already satisfied: joblib>=1.1.1 in /usr/local/lib/python3.10/dist-packages (from scikit-learn->medmnist) (1.4.2)\n",
      "Requirement already satisfied: threadpoolctl>=2.0.0 in /usr/local/lib/python3.10/dist-packages (from scikit-learn->medmnist) (3.5.0)\n",
      "Requirement already satisfied: filelock in /usr/local/lib/python3.10/dist-packages (from torch->medmnist) (3.17.0)\n",
      "Requirement already satisfied: typing-extensions>=4.8.0 in /usr/local/lib/python3.10/dist-packages (from torch->medmnist) (4.12.2)\n",
      "Requirement already satisfied: jinja2 in /usr/local/lib/python3.10/dist-packages (from torch->medmnist) (3.1.4)\n",
      "Requirement already satisfied: fsspec in /usr/local/lib/python3.10/dist-packages (from torch->medmnist) (2024.12.0)\n",
      "Requirement already satisfied: sympy==1.13.1 in /usr/local/lib/python3.10/dist-packages (from torch->medmnist) (1.13.1)\n",
      "Requirement already satisfied: mpmath<1.4,>=1.1.0 in /usr/local/lib/python3.10/dist-packages (from sympy==1.13.1->torch->medmnist) (1.3.0)\n",
      "Requirement already satisfied: six>=1.5 in /usr/local/lib/python3.10/dist-packages (from python-dateutil>=2.8.2->pandas->medmnist) (1.17.0)\n",
      "Requirement already satisfied: MarkupSafe>=2.0 in /usr/local/lib/python3.10/dist-packages (from jinja2->torch->medmnist) (3.0.2)\n",
      "Requirement already satisfied: intel-openmp>=2024 in /usr/local/lib/python3.10/dist-packages (from mkl->numpy->medmnist) (2024.2.0)\n",
      "Requirement already satisfied: tbb==2022.* in /usr/local/lib/python3.10/dist-packages (from mkl->numpy->medmnist) (2022.0.0)\n",
      "Requirement already satisfied: tcmlib==1.* in /usr/local/lib/python3.10/dist-packages (from tbb==2022.*->mkl->numpy->medmnist) (1.2.0)\n",
      "Requirement already satisfied: intel-cmplr-lib-rt in /usr/local/lib/python3.10/dist-packages (from mkl_umath->numpy->medmnist) (2024.2.0)\n",
      "Requirement already satisfied: intel-cmplr-lib-ur==2024.2.0 in /usr/local/lib/python3.10/dist-packages (from intel-openmp>=2024->mkl->numpy->medmnist) (2024.2.0)\n",
      "Downloading medmnist-3.0.2-py3-none-any.whl (25 kB)\n",
      "Building wheels for collected packages: fire\n",
      "  Building wheel for fire (setup.py) ... \u001b[?25l\u001b[?25hdone\n",
      "  Created wheel for fire: filename=fire-0.7.0-py3-none-any.whl size=114249 sha256=2bd0ef1bc55aaf19901a45ad44b2be422f125217aa349dd1b955c507251ae6ff\n",
      "  Stored in directory: /root/.cache/pip/wheels/19/39/2f/2d3cadc408a8804103f1c34ddd4b9f6a93497b11fa96fe738e\n",
      "Successfully built fire\n",
      "Installing collected packages: fire, medmnist\n",
      "Successfully installed fire-0.7.0 medmnist-3.0.2\n",
      "Requirement already satisfied: numpy in /usr/local/lib/python3.10/dist-packages (1.26.4)\n",
      "Requirement already satisfied: mkl_fft in /usr/local/lib/python3.10/dist-packages (from numpy) (1.3.8)\n",
      "Requirement already satisfied: mkl_random in /usr/local/lib/python3.10/dist-packages (from numpy) (1.2.4)\n",
      "Requirement already satisfied: mkl_umath in /usr/local/lib/python3.10/dist-packages (from numpy) (0.1.1)\n",
      "Requirement already satisfied: mkl in /usr/local/lib/python3.10/dist-packages (from numpy) (2025.0.1)\n",
      "Requirement already satisfied: tbb4py in /usr/local/lib/python3.10/dist-packages (from numpy) (2022.0.0)\n",
      "Requirement already satisfied: mkl-service in /usr/local/lib/python3.10/dist-packages (from numpy) (2.4.1)\n",
      "Requirement already satisfied: intel-openmp>=2024 in /usr/local/lib/python3.10/dist-packages (from mkl->numpy) (2024.2.0)\n",
      "Requirement already satisfied: tbb==2022.* in /usr/local/lib/python3.10/dist-packages (from mkl->numpy) (2022.0.0)\n",
      "Requirement already satisfied: tcmlib==1.* in /usr/local/lib/python3.10/dist-packages (from tbb==2022.*->mkl->numpy) (1.2.0)\n",
      "Requirement already satisfied: intel-cmplr-lib-rt in /usr/local/lib/python3.10/dist-packages (from mkl_umath->numpy) (2024.2.0)\n",
      "Requirement already satisfied: intel-cmplr-lib-ur==2024.2.0 in /usr/local/lib/python3.10/dist-packages (from intel-openmp>=2024->mkl->numpy) (2024.2.0)\n"
     ]
    }
   ],
   "source": [
    "!pip install medmnist\n",
    "!pip install numpy\n",
    "!pip install scikit-learn\n",
    "!pip install torch\n",
    "!pip install torchvision\n"
   ]
  },
  {
   "cell_type": "code",
   "execution_count": null,
   "metadata": {
    "execution": {
     "iopub.execute_input": "2025-03-05T02:34:23.143204Z",
     "iopub.status.busy": "2025-03-05T02:34:23.142970Z",
     "iopub.status.idle": "2025-03-05T02:34:29.764925Z",
     "shell.execute_reply": "2025-03-05T02:34:29.764159Z",
     "shell.execute_reply.started": "2025-03-05T02:34:23.143169Z"
    },
    "trusted": true
   },
   "outputs": [],
   "source": [
    "from medmnist import PneumoniaMNIST \n",
    "import numpy as np\n",
    "import torch\n",
    "import torch.nn as nn\n",
    "import torch.optim as optim\n",
    "from torchvision import transforms\n",
    "from sklearn.model_selection import train_test_split\n",
    "import random\n",
    "from sklearn.metrics import accuracy_score\n",
    "from sklearn.metrics import roc_auc_score\n",
    "from sklearn.model_selection import KFold\n"
   ]
  },
  {
   "cell_type": "markdown",
   "metadata": {},
   "source": [
    "##############################\n",
    "**DATA LOADING AND PROCESSING**\n",
    "##############################"
   ]
  },
  {
   "cell_type": "code",
   "execution_count": null,
   "metadata": {
    "execution": {
     "iopub.execute_input": "2025-03-05T02:34:29.766577Z",
     "iopub.status.busy": "2025-03-05T02:34:29.766048Z",
     "iopub.status.idle": "2025-03-05T02:34:32.323018Z",
     "shell.execute_reply": "2025-03-05T02:34:32.322325Z",
     "shell.execute_reply.started": "2025-03-05T02:34:29.766535Z"
    },
    "trusted": true
   },
   "outputs": [
    {
     "name": "stdout",
     "output_type": "stream",
     "text": [
      "Downloading https://zenodo.org/records/10519652/files/pneumoniamnist.npz?download=1 to /root/.medmnist/pneumoniamnist.npz\n"
     ]
    },
    {
     "name": "stderr",
     "output_type": "stream",
     "text": [
      "100%|██████████| 4.17M/4.17M [00:01<00:00, 3.29MB/s]\n"
     ]
    },
    {
     "name": "stdout",
     "output_type": "stream",
     "text": [
      "Using downloaded and verified file: /root/.medmnist/pneumoniamnist.npz\n"
     ]
    }
   ],
   "source": [
    "train_dataset = PneumoniaMNIST(split='train', download=True)\n",
    "test_dataset = PneumoniaMNIST(split='test', download=True)\n",
    "\n",
    "# Assume train_dataset.imgs is a numpy array of shape (N, H, W, C)\n",
    "x_train = train_dataset.imgs.astype('float32') / 255.0\n",
    "y_train = train_dataset.labels.flatten()\n",
    "\n",
    "x_test = test_dataset.imgs.astype('float32') / 255.0\n",
    "y_test = test_dataset.labels.flatten()\n",
    "\n",
    "# Flatten images for traditional model\n",
    "x_train_flat = x_train.reshape(x_train.shape[0], -1)\n",
    "x_test_flat = x_test.reshape(x_test.shape[0], -1)\n"
   ]
  },
  {
   "cell_type": "code",
   "execution_count": null,
   "metadata": {
    "execution": {
     "iopub.execute_input": "2025-03-05T02:34:32.324032Z",
     "iopub.status.busy": "2025-03-05T02:34:32.323767Z",
     "iopub.status.idle": "2025-03-05T02:34:32.359223Z",
     "shell.execute_reply": "2025-03-05T02:34:32.358396Z",
     "shell.execute_reply.started": "2025-03-05T02:34:32.324002Z"
    },
    "trusted": true
   },
   "outputs": [],
   "source": [
    "# For PyTorch CNN, convert images to tensors.\n",
    "# Images are grayscale, shape (1, H, W)\n",
    "def numpy_to_tensor(x):\n",
    "    if x.ndim == 3:\n",
    "        # x is (N, H, W) - add channel dimension to get (N, 1, H, W)\n",
    "        x = np.expand_dims(x, axis=1)\n",
    "    elif x.ndim == 4 and x.shape[-1] == 1:\n",
    "        # x is (N, H, W, 1) - convert to (N, 1, H, W)\n",
    "        x = x.transpose(0, 3, 1, 2)\n",
    "    # Otherwise, assume it's already in the desired format.\n",
    "    return torch.tensor(x, dtype=torch.float32)\n",
    "\n",
    "\n",
    "x_train_tensor = numpy_to_tensor(x_train)\n",
    "x_test_tensor  = numpy_to_tensor(x_test)\n"
   ]
  },
  {
   "cell_type": "code",
   "execution_count": null,
   "metadata": {
    "execution": {
     "iopub.execute_input": "2025-03-05T02:34:32.360272Z",
     "iopub.status.busy": "2025-03-05T02:34:32.360026Z",
     "iopub.status.idle": "2025-03-05T02:34:32.446035Z",
     "shell.execute_reply": "2025-03-05T02:34:32.445265Z",
     "shell.execute_reply.started": "2025-03-05T02:34:32.360251Z"
    },
    "trusted": true
   },
   "outputs": [],
   "source": [
    "# Split training set into a new training set and a validation set for GA optimization.\n",
    "# We use validation for computing ensemble fitness.\n",
    "(x_train_flat_model, x_val_flat, \n",
    " x_train_tensor_model, x_val_tensor, \n",
    " y_train_model, y_val) = train_test_split(x_train_flat, x_train_tensor, y_train, test_size=0.2, random_state=42)\n"
   ]
  },
  {
   "cell_type": "markdown",
   "metadata": {},
   "source": [
    "**DECISION TREE MODEL**"
   ]
  },
  {
   "cell_type": "code",
   "execution_count": null,
   "metadata": {
    "execution": {
     "iopub.execute_input": "2025-03-05T02:34:32.448673Z",
     "iopub.status.busy": "2025-03-05T02:34:32.448448Z",
     "iopub.status.idle": "2025-03-05T02:34:34.055987Z",
     "shell.execute_reply": "2025-03-05T02:34:34.055338Z",
     "shell.execute_reply.started": "2025-03-05T02:34:32.448654Z"
    },
    "trusted": true
   },
   "outputs": [],
   "source": [
    "from sklearn.tree import DecisionTreeClassifier\n",
    "dt_model = DecisionTreeClassifier(random_state=42, max_depth=10)\n",
    "dt_model.fit(x_train_flat_model, y_train_model)\n",
    "dt_val_probs = dt_model.predict_proba(x_val_flat)[:, 1]\n"
   ]
  },
  {
   "cell_type": "markdown",
   "metadata": {},
   "source": [
    "**GAUSSIAN NAIVE BAYES MODEL**"
   ]
  },
  {
   "cell_type": "code",
   "execution_count": null,
   "metadata": {
    "execution": {
     "iopub.execute_input": "2025-03-05T02:34:34.057614Z",
     "iopub.status.busy": "2025-03-05T02:34:34.057327Z",
     "iopub.status.idle": "2025-03-05T02:34:34.144601Z",
     "shell.execute_reply": "2025-03-05T02:34:34.143690Z",
     "shell.execute_reply.started": "2025-03-05T02:34:34.057594Z"
    },
    "trusted": true
   },
   "outputs": [],
   "source": [
    "from sklearn.naive_bayes import GaussianNB\n",
    "bayes_model = GaussianNB()\n",
    "bayes_model.fit(x_train_flat_model, y_train_model)\n",
    "bayes_val_probs = bayes_model.predict_proba(x_val_flat)[:, 1]\n"
   ]
  },
  {
   "cell_type": "markdown",
   "metadata": {},
   "source": [
    "**PYTORCH CNN MODEL**"
   ]
  },
  {
   "cell_type": "code",
   "execution_count": null,
   "metadata": {
    "execution": {
     "iopub.execute_input": "2025-03-05T02:34:34.145645Z",
     "iopub.status.busy": "2025-03-05T02:34:34.145399Z",
     "iopub.status.idle": "2025-03-05T02:34:34.150754Z",
     "shell.execute_reply": "2025-03-05T02:34:34.149878Z",
     "shell.execute_reply.started": "2025-03-05T02:34:34.145625Z"
    },
    "trusted": true
   },
   "outputs": [],
   "source": [
    "class SimpleCNN(nn.Module):\n",
    "    def __init__(self):\n",
    "        super(SimpleCNN, self).__init__()\n",
    "        # Input channels = 1, output channels = 32, kernel_size = 3\n",
    "        self.conv1 = nn.Conv2d(1, 32, kernel_size=3, padding=1)\n",
    "        self.pool = nn.MaxPool2d(2, 2) ## Reduces 28x28 -> 14x14\n",
    "        self.fc1 = nn.Linear(32 * 14 * 14, 128)\n",
    "        self.fc2 = nn.Linear(128, 1)\n",
    "        \n",
    "    def forward(self, x):\n",
    "        x = self.pool(torch.relu(self.conv1(x)))\n",
    "        x = x.view(x.size(0), -1)\n",
    "        x = torch.relu(self.fc1(x))\n",
    "        x = torch.sigmoid(self.fc2(x))\n",
    "        return x\n"
   ]
  },
  {
   "cell_type": "code",
   "execution_count": null,
   "metadata": {
    "execution": {
     "iopub.execute_input": "2025-03-05T02:34:34.151897Z",
     "iopub.status.busy": "2025-03-05T02:34:34.151652Z",
     "iopub.status.idle": "2025-03-05T02:34:34.403522Z",
     "shell.execute_reply": "2025-03-05T02:34:34.402806Z",
     "shell.execute_reply.started": "2025-03-05T02:34:34.151877Z"
    },
    "trusted": true
   },
   "outputs": [],
   "source": [
    "device = torch.device(\"cuda\" if torch.cuda.is_available() else \"cpu\")\n",
    "cnn_model = SimpleCNN().to(device)\n",
    "criterion = nn.BCELoss()\n",
    "optimizer = optim.Adam(cnn_model.parameters(), lr=0.001)\n"
   ]
  },
  {
   "cell_type": "code",
   "execution_count": null,
   "metadata": {
    "execution": {
     "iopub.execute_input": "2025-03-05T02:34:34.404540Z",
     "iopub.status.busy": "2025-03-05T02:34:34.404291Z",
     "iopub.status.idle": "2025-03-05T02:34:34.411941Z",
     "shell.execute_reply": "2025-03-05T02:34:34.411330Z",
     "shell.execute_reply.started": "2025-03-05T02:34:34.404519Z"
    },
    "trusted": true
   },
   "outputs": [],
   "source": [
    "# Create a simple DataLoader for training\n",
    "batch_size = 32\n",
    "train_dataset_tensor = torch.utils.data.TensorDataset(x_train_tensor_model, torch.tensor(y_train_model, dtype=torch.float32).unsqueeze(1))\n",
    "train_loader = torch.utils.data.DataLoader(train_dataset_tensor, batch_size=batch_size, shuffle=True)\n"
   ]
  },
  {
   "cell_type": "code",
   "execution_count": null,
   "metadata": {
    "execution": {
     "iopub.execute_input": "2025-03-05T02:34:34.412956Z",
     "iopub.status.busy": "2025-03-05T02:34:34.412669Z",
     "iopub.status.idle": "2025-03-05T02:34:36.867624Z",
     "shell.execute_reply": "2025-03-05T02:34:36.866950Z",
     "shell.execute_reply.started": "2025-03-05T02:34:34.412934Z"
    },
    "trusted": true
   },
   "outputs": [],
   "source": [
    "cnn_model.train()\n",
    "n_epochs = 7\n",
    "for epoch in range(n_epochs):\n",
    "    for inputs, labels in train_loader:\n",
    "        inputs, labels = inputs.to(device), labels.to(device)\n",
    "        optimizer.zero_grad()\n",
    "        outputs = cnn_model(inputs)\n",
    "        loss = criterion(outputs, labels)\n",
    "        loss.backward()\n",
    "        optimizer.step()\n"
   ]
  },
  {
   "cell_type": "code",
   "execution_count": null,
   "metadata": {
    "execution": {
     "iopub.execute_input": "2025-03-05T02:34:36.868691Z",
     "iopub.status.busy": "2025-03-05T02:34:36.868389Z",
     "iopub.status.idle": "2025-03-05T02:34:36.877361Z",
     "shell.execute_reply": "2025-03-05T02:34:36.876755Z",
     "shell.execute_reply.started": "2025-03-05T02:34:36.868662Z"
    },
    "trusted": true
   },
   "outputs": [],
   "source": [
    "cnn_model.eval()\n",
    "with torch.no_grad():\n",
    "    x_val_tensor = x_val_tensor.to(device)\n",
    "    cnn_val_outputs = cnn_model(x_val_tensor).cpu().numpy().flatten()\n",
    "cnn_val_probs = cnn_val_outputs\n"
   ]
  },
  {
   "cell_type": "markdown",
   "metadata": {},
   "source": [
    "**Ensembling the predictions & Custom GA for Weight Optimization**"
   ]
  },
  {
   "cell_type": "code",
   "execution_count": null,
   "metadata": {
    "execution": {
     "iopub.execute_input": "2025-03-05T02:34:36.878404Z",
     "iopub.status.busy": "2025-03-05T02:34:36.878117Z",
     "iopub.status.idle": "2025-03-05T02:34:36.892093Z",
     "shell.execute_reply": "2025-03-05T02:34:36.891418Z",
     "shell.execute_reply.started": "2025-03-05T02:34:36.878378Z"
    },
    "trusted": true
   },
   "outputs": [],
   "source": [
    "# The ensemble prediction is a weighted average of the three models’ probability outputs.\n",
    "def ensemble_prediction(weights, rf_probs, cnn_probs, bayes_probs):\n",
    "    # weights: [w_rf, w_cnn, w_bayes]\n",
    "    total_weight = sum(weights)\n",
    "    ensemble_probs = (weights[0]*rf_probs + weights[1]*cnn_probs + weights[2]*bayes_probs) / total_weight\n",
    "    preds = (ensemble_probs > 0.5).astype(int)\n",
    "    return preds\n"
   ]
  },
  {
   "cell_type": "code",
   "execution_count": null,
   "metadata": {
    "execution": {
     "iopub.execute_input": "2025-03-05T02:34:36.893052Z",
     "iopub.status.busy": "2025-03-05T02:34:36.892799Z",
     "iopub.status.idle": "2025-03-05T02:34:36.911702Z",
     "shell.execute_reply": "2025-03-05T02:34:36.911098Z",
     "shell.execute_reply.started": "2025-03-05T02:34:36.893034Z"
    },
    "trusted": true
   },
   "outputs": [],
   "source": [
    "# Fitness function: returns accuracy on the validation set.\n",
    "def fitness(weights, rf_probs, cnn_probs, bayes_probs, true_labels):\n",
    "    preds = ensemble_prediction(weights, rf_probs, cnn_probs, bayes_probs)\n",
    "    return accuracy_score(true_labels, preds)\n"
   ]
  },
  {
   "cell_type": "code",
   "execution_count": null,
   "metadata": {
    "execution": {
     "iopub.execute_input": "2025-03-05T02:34:36.912517Z",
     "iopub.status.busy": "2025-03-05T02:34:36.912340Z",
     "iopub.status.idle": "2025-03-05T02:34:36.925488Z",
     "shell.execute_reply": "2025-03-05T02:34:36.924736Z",
     "shell.execute_reply.started": "2025-03-05T02:34:36.912502Z"
    },
    "trusted": true
   },
   "outputs": [],
   "source": [
    "def initialize_population(pop_size):\n",
    "    # Initialize individuals with 3 weights in the range [0.1, 1.0]\n",
    "    return [ [random.uniform(0.1, 1.0) for _ in range(3)] for _ in range(pop_size) ]\n"
   ]
  },
  {
   "cell_type": "code",
   "execution_count": null,
   "metadata": {
    "execution": {
     "iopub.execute_input": "2025-03-05T02:34:36.926510Z",
     "iopub.status.busy": "2025-03-05T02:34:36.926251Z",
     "iopub.status.idle": "2025-03-05T02:34:36.939432Z",
     "shell.execute_reply": "2025-03-05T02:34:36.938799Z",
     "shell.execute_reply.started": "2025-03-05T02:34:36.926486Z"
    },
    "trusted": true
   },
   "outputs": [],
   "source": [
    "def tournament_selection(pop, fitnesses, tournament_size=3):\n",
    "    selected = []\n",
    "    pop_size = len(pop)\n",
    "    for _ in range(pop_size):\n",
    "        # Randomly choose individuals for tournament\n",
    "        candidates = [ random.randrange(pop_size) for _ in range(tournament_size) ]\n",
    "        best = max(candidates, key=lambda idx: fitnesses[idx])\n",
    "        selected.append(pop[best])\n",
    "    return selected\n"
   ]
  },
  {
   "cell_type": "code",
   "execution_count": null,
   "metadata": {
    "execution": {
     "iopub.execute_input": "2025-03-05T02:34:36.940452Z",
     "iopub.status.busy": "2025-03-05T02:34:36.940168Z",
     "iopub.status.idle": "2025-03-05T02:34:36.952467Z",
     "shell.execute_reply": "2025-03-05T02:34:36.951833Z",
     "shell.execute_reply.started": "2025-03-05T02:34:36.940423Z"
    },
    "trusted": true
   },
   "outputs": [],
   "source": [
    "def blend_crossover(parent1, parent2, alpha=0.5):\n",
    "    # For each gene, blend between parents\n",
    "    child1, child2 = [], []\n",
    "    for gene1, gene2 in zip(parent1, parent2):\n",
    "        d = abs(gene1 - gene2)\n",
    "        lower = min(gene1, gene2) - alpha*d\n",
    "        upper = max(gene1, gene2) + alpha*d\n",
    "        c1 = random.uniform(lower, upper)\n",
    "        c2 = random.uniform(lower, upper)\n",
    "        child1.append(c1)\n",
    "        child2.append(c2)\n",
    "    return child1, child2\n"
   ]
  },
  {
   "cell_type": "code",
   "execution_count": null,
   "metadata": {
    "execution": {
     "iopub.execute_input": "2025-03-05T02:34:36.953391Z",
     "iopub.status.busy": "2025-03-05T02:34:36.953116Z",
     "iopub.status.idle": "2025-03-05T02:34:36.965608Z",
     "shell.execute_reply": "2025-03-05T02:34:36.964907Z",
     "shell.execute_reply.started": "2025-03-05T02:34:36.953365Z"
    },
    "trusted": true
   },
   "outputs": [],
   "source": [
    "def mutate(individual, mutation_rate=0.2, mutation_strength=0.1):\n",
    "    # Mutate each gene with a probability and add a small random value.\n",
    "    for i in range(len(individual)):\n",
    "        if random.random() < mutation_rate:\n",
    "            individual[i] += random.uniform(-mutation_strength, mutation_strength)\n",
    "            # Keep gene in [0.1, 1.0]\n",
    "            individual[i] = max(0.1, min(1.0, individual[i]))\n",
    "    return individual\n"
   ]
  },
  {
   "cell_type": "code",
   "execution_count": null,
   "metadata": {
    "execution": {
     "iopub.execute_input": "2025-03-05T02:34:36.966477Z",
     "iopub.status.busy": "2025-03-05T02:34:36.966294Z",
     "iopub.status.idle": "2025-03-05T02:34:36.982436Z",
     "shell.execute_reply": "2025-03-05T02:34:36.981761Z",
     "shell.execute_reply.started": "2025-03-05T02:34:36.966462Z"
    },
    "trusted": true
   },
   "outputs": [],
   "source": [
    "def fitness_cv(weights, dt_probs, cnn_probs, bayes_probs, true_labels, k=5, reg_lambda=0.01):\n",
    "    # Prepare cross-validation splits (indices for the validation set)\n",
    "    kf = KFold(n_splits=k, shuffle=True, random_state=42)\n",
    "    auc_scores = []\n",
    "    \n",
    "    # Convert probabilities to numpy arrays if necessary.\n",
    "    dt_probs = np.array(dt_probs)\n",
    "    cnn_probs = np.array(cnn_probs)\n",
    "    bayes_probs = np.array(bayes_probs)\n",
    "    true_labels = np.array(true_labels)\n",
    "    \n",
    "    for train_idx, val_idx in kf.split(true_labels):\n",
    "        # Get the fold's predictions and labels\n",
    "        dt_fold = dt_probs[val_idx]\n",
    "        cnn_fold = cnn_probs[val_idx]\n",
    "        bayes_fold = bayes_probs[val_idx]\n",
    "        labels_fold = true_labels[val_idx]\n",
    "        \n",
    "        total_weight = sum(weights)\n",
    "        ensemble_probs = (weights[0] * dt_fold +\n",
    "                          weights[1] * cnn_fold +\n",
    "                          weights[2] * bayes_fold) / total_weight\n",
    "        \n",
    "        # Compute AUC for this fold; if all labels are the same, skip the fold.\n",
    "        if len(np.unique(labels_fold)) > 1:\n",
    "            auc = roc_auc_score(labels_fold, ensemble_probs)\n",
    "            auc_scores.append(auc)\n",
    "    \n",
    "    # Average AUC across folds.\n",
    "    avg_auc = np.mean(auc_scores) if auc_scores else 0.0\n",
    "    \n",
    "    # Regularization: Penalize extreme weights.\n",
    "    reg_penalty = reg_lambda * np.sum(np.square(weights))\n",
    "    \n",
    "    # The fitness could be defined as average AUC minus the penalty.\n",
    "    fitness_value = avg_auc - reg_penalty\n",
    "    return fitness_value\n"
   ]
  },
  {
   "cell_type": "code",
   "execution_count": null,
   "metadata": {
    "execution": {
     "iopub.execute_input": "2025-03-05T02:34:36.985020Z",
     "iopub.status.busy": "2025-03-05T02:34:36.984831Z",
     "iopub.status.idle": "2025-03-05T02:34:37.002163Z",
     "shell.execute_reply": "2025-03-05T02:34:37.001518Z",
     "shell.execute_reply.started": "2025-03-05T02:34:36.985004Z"
    },
    "trusted": true
   },
   "outputs": [],
   "source": [
    "def run_ga(dt_probs, cnn_probs, bayes_probs, true_labels, pop_size=20, generations=10):\n",
    "    population = initialize_population(pop_size)\n",
    "    best_individual = None\n",
    "    best_fitness = -np.inf\n",
    "\n",
    "    for gen in range(generations):\n",
    "        fitnesses = [fitness_cv(ind, dt_probs, cnn_probs, bayes_probs, true_labels) for ind in population]\n",
    "        # Track best\n",
    "        gen_best_idx = np.argmax(fitnesses)\n",
    "        if fitnesses[gen_best_idx] > best_fitness:\n",
    "            best_fitness = fitnesses[gen_best_idx]\n",
    "            best_individual = population[gen_best_idx]\n",
    "        print(f\"Generation {gen}: Best Fitness = {fitnesses[gen_best_idx]:.4f}, Weights = {population[gen_best_idx]}\")\n",
    "        \n",
    "        # Selection\n",
    "        selected = tournament_selection(population, fitnesses)\n",
    "        # Crossover (pair up and create children)\n",
    "        next_population = []\n",
    "        for i in range(0, pop_size - 1, 2):\n",
    "            child1, child2 = blend_crossover(selected[i], selected[i+1])\n",
    "            next_population.append(child1)\n",
    "            next_population.append(child2)\n",
    "        # If odd population, add last individual\n",
    "        if len(next_population) < pop_size:\n",
    "            next_population.append(selected[-1])\n",
    "        # Mutation\n",
    "        next_population = [ mutate(ind, mutation_rate=0.3, mutation_strength=0.1) for ind in next_population ]\n",
    "        population = next_population\n",
    "    return best_individual, best_fitness\n"
   ]
  },
  {
   "cell_type": "code",
   "execution_count": null,
   "metadata": {
    "execution": {
     "iopub.execute_input": "2025-03-05T02:34:37.003305Z",
     "iopub.status.busy": "2025-03-05T02:34:37.003053Z",
     "iopub.status.idle": "2025-03-05T02:34:40.391510Z",
     "shell.execute_reply": "2025-03-05T02:34:40.390601Z",
     "shell.execute_reply.started": "2025-03-05T02:34:37.003275Z"
    },
    "trusted": true
   },
   "outputs": [
    {
     "name": "stdout",
     "output_type": "stream",
     "text": [
      "Generation 0: Best Fitness = 0.9745, Weights = [0.12435297564590883, 0.5421802206771655, 0.5591086898797808]\n",
      "Generation 1: Best Fitness = 0.9832, Weights = [0.1, 0.6416518843498931, 0.10030349214125137]\n",
      "Generation 2: Best Fitness = 0.9844, Weights = [0.1, 0.3912848412890316, 0.07153506248963104]\n",
      "Generation 3: Best Fitness = 0.9856, Weights = [0.1, 0.37653477015506504, 0.01994245092834762]\n",
      "Generation 4: Best Fitness = 0.9832, Weights = [0.1, 0.3733535879946029, 0.12088589997771951]\n",
      "Generation 5: Best Fitness = 0.9839, Weights = [0.048369099918866516, 0.5362672468197539, 0.12076797577507653]\n",
      "Generation 6: Best Fitness = 0.9839, Weights = [0.048369099918866516, 0.5362672468197539, 0.12076797577507653]\n",
      "Generation 7: Best Fitness = 0.9849, Weights = [0.026560369800360376, 0.5026526107266767, 0.10721263711824836]\n",
      "Generation 8: Best Fitness = 0.9849, Weights = [0.012016692672770158, 0.5039342662388241, 0.11437954199116138]\n",
      "Generation 9: Best Fitness = 0.9851, Weights = [0.012354827817499324, 0.4622886466333996, 0.1145686041985217]\n",
      "Generation 10: Best Fitness = 0.9860, Weights = [-0.019748410210333217, 0.45565364088592025, 0.0831351085062446]\n",
      "Generation 11: Best Fitness = 0.9858, Weights = [-0.014040345315089936, 0.4766891181457887, 0.1]\n",
      "Generation 12: Best Fitness = 0.9859, Weights = [-0.014040345315089936, 0.45827244354351493, 0.1]\n",
      "Generation 13: Best Fitness = 0.9861, Weights = [0.004283017216043669, 0.5128498161098675, 0.08187653488279771]\n",
      "Generation 14: Best Fitness = 0.9859, Weights = [-0.01365964282419322, 0.4735032450025033, 0.0874897749350861]\n",
      "Generation 15: Best Fitness = 0.9861, Weights = [-0.01278051542621319, 0.41846606040210754, 0.1]\n",
      "Generation 16: Best Fitness = 0.9861, Weights = [-0.011318193752715852, 0.4339089897864449, 0.09042451259594833]\n",
      "Generation 17: Best Fitness = 0.9862, Weights = [-0.01071687846964359, 0.4325118621237011, 0.0911823146535291]\n",
      "Generation 18: Best Fitness = 0.9864, Weights = [-0.007203343881854087, 0.3776933865478032, 0.09112088345662736]\n",
      "Generation 19: Best Fitness = 0.9865, Weights = [-0.0014530540920849825, 0.383933593815111, 0.08959470722816497]\n",
      "Generation 20: Best Fitness = 0.9865, Weights = [-0.006721251666363401, 0.3834627745648513, 0.0831368389581883]\n",
      "Generation 21: Best Fitness = 0.9865, Weights = [-0.006744567665581072, 0.40022509072020696, 0.08284888994311179]\n",
      "Generation 22: Best Fitness = 0.9867, Weights = [-0.006662638191558346, 0.3315773104660653, 0.08181719599147148]\n",
      "Generation 23: Best Fitness = 0.9864, Weights = [-0.007235127663612431, 0.36240603087512874, 0.0906162489993924]\n",
      "Generation 24: Best Fitness = 0.9864, Weights = [-0.013745796681453155, 0.3639340560809542, 0.08798584205037438]\n",
      "Generation 25: Best Fitness = 0.9864, Weights = [-0.006987684262246696, 0.3803140841483999, 0.09161142791588865]\n",
      "Generation 26: Best Fitness = 0.9864, Weights = [-0.012033051955728055, 0.38121873271604123, 0.09144613837553019]\n",
      "Generation 27: Best Fitness = 0.9866, Weights = [-0.00096542526476108, 0.3263537347305504, 0.08481784603872371]\n",
      "Generation 28: Best Fitness = 0.9865, Weights = [-0.005191992648720101, 0.36942451384284114, 0.08847020519230951]\n",
      "Generation 29: Best Fitness = 0.9865, Weights = [-0.011156886117285488, 0.32643199263225525, 0.08379185776661588]\n",
      "\n",
      "Optimized Ensemble Weights: [-0.006662638191558346, 0.3315773104660653, 0.08181719599147148]\n",
      "Validation Accuracy with Optimized Weights: 0.9866634453165767\n"
     ]
    }
   ],
   "source": [
    "# Run the GA on the validation predictions.\n",
    "# Change between rf and dt here\n",
    "best_weights, best_acc = run_ga(dt_val_probs, cnn_val_probs, bayes_val_probs, y_val, pop_size=20, generations=30)\n",
    "print(\"\\nOptimized Ensemble Weights:\", best_weights)\n",
    "print(\"Validation Accuracy with Optimized Weights:\", best_acc)\n"
   ]
  },
  {
   "cell_type": "markdown",
   "metadata": {},
   "source": [
    "**FINAL ENSEMBLE PREDICTION ON TEST SET**"
   ]
  },
  {
   "cell_type": "code",
   "execution_count": null,
   "metadata": {
    "execution": {
     "iopub.execute_input": "2025-03-05T02:34:40.392751Z",
     "iopub.status.busy": "2025-03-05T02:34:40.392437Z",
     "iopub.status.idle": "2025-03-05T02:34:40.420553Z",
     "shell.execute_reply": "2025-03-05T02:34:40.419736Z",
     "shell.execute_reply.started": "2025-03-05T02:34:40.392720Z"
    },
    "trusted": true
   },
   "outputs": [
    {
     "name": "stdout",
     "output_type": "stream",
     "text": [
      "\n",
      "Test Accuracy with Optimized Ensemble: 0.8237179487179487\n"
     ]
    }
   ],
   "source": [
    "# After optimizing, get predictions from each model on the test set.\n",
    "bayes_test_probs = bayes_model.predict_proba(x_test_flat)[:, 1]\n",
    "dt_test_probs = dt_model.predict_proba(x_test_flat)[:, 1]\n",
    "\n",
    "# CNN on test set:\n",
    "cnn_model.eval()\n",
    "with torch.no_grad():\n",
    "    x_test_tensor = x_test_tensor.to(device)\n",
    "    cnn_test_outputs = cnn_model(x_test_tensor).cpu().numpy().flatten()\n",
    "cnn_test_probs = cnn_test_outputs\n",
    "\n",
    "# Use optimized weights for ensemble on test set.\n",
    "def final_ensemble(weights):\n",
    "    total_weight = sum(weights)\n",
    "    #Change value here also\n",
    "    ensemble_probs = (weights[0]*dt_test_probs + weights[1]*cnn_test_probs + weights[2]*bayes_test_probs) / total_weight\n",
    "    preds = (ensemble_probs > 0.5).astype(int)\n",
    "    return preds\n",
    "\n",
    "test_preds = final_ensemble(best_weights)\n",
    "test_acc = accuracy_score(y_test, test_preds)\n",
    "print(\"\\nTest Accuracy with Optimized Ensemble:\", test_acc)\n"
   ]
  },
  {
   "cell_type": "code",
   "execution_count": 23,
   "metadata": {
    "execution": {
     "iopub.execute_input": "2025-03-05T02:34:40.421651Z",
     "iopub.status.busy": "2025-03-05T02:34:40.421400Z",
     "iopub.status.idle": "2025-03-05T02:34:40.440749Z",
     "shell.execute_reply": "2025-03-05T02:34:40.439944Z",
     "shell.execute_reply.started": "2025-03-05T02:34:40.421627Z"
    },
    "trusted": true
   },
   "outputs": [
    {
     "name": "stdout",
     "output_type": "stream",
     "text": [
      "=== F1 Scores ===\n",
      "Decision Tree:  0.8574739281575897\n",
      "Bayesian Model: 0.8667496886674969\n",
      "CNN: 0.8660714285714286\n",
      "Ensemble: 0.8755656108597285\n",
      "\n",
      "=== Confusion Matrices ===\n",
      "Decision Tree:\n",
      " [[131 103]\n",
      " [ 20 370]]\n",
      "\n",
      "Bayesian Model:\n",
      " [[169  65]\n",
      " [ 42 348]]\n",
      "\n",
      "CNN:\n",
      " [[116 118]\n",
      " [  2 388]]\n",
      "\n",
      "Ensemble:\n",
      " [[127 107]\n",
      " [  3 387]]\n"
     ]
    }
   ],
   "source": [
    "from sklearn.metrics import f1_score, confusion_matrix\n",
    "\n",
    "# Assume these probability outputs have been computed on the test set:\n",
    "# rf_test_probs, bayes_test_probs, cnn_test_probs, and ensemble_preds from final_ensemble(best_weights)\n",
    "# For example, if using your final_ensemble function:\n",
    "ensemble_preds = final_ensemble(best_weights)\n",
    "\n",
    "\n",
    "\n",
    "dt_preds    = (dt_test_probs > 0.5).astype(int)\n",
    "bayes_preds = (bayes_test_probs > 0.5).astype(int)\n",
    "cnn_preds   = (cnn_test_probs > 0.5).astype(int)\n",
    "\n",
    "# Compute F1 Scores.\n",
    "dt_f1       = f1_score(y_test, dt_preds)\n",
    "bayes_f1    = f1_score(y_test, bayes_preds)\n",
    "cnn_f1      = f1_score(y_test, cnn_preds)\n",
    "ensemble_f1 = f1_score(y_test, ensemble_preds)\n",
    "\n",
    "# Compute Confusion Matrices.\n",
    "dt_cm      = confusion_matrix(y_test, dt_preds)\n",
    "bayes_cm    = confusion_matrix(y_test, bayes_preds)\n",
    "cnn_cm      = confusion_matrix(y_test, cnn_preds)\n",
    "ensemble_cm = confusion_matrix(y_test, ensemble_preds)\n",
    "\n",
    "# Print results.\n",
    "print(\"=== F1 Scores ===\")\n",
    "print('Decision Tree: ', dt_f1)\n",
    "print(\"Bayesian Model:\", bayes_f1)\n",
    "print(\"CNN:\", cnn_f1)\n",
    "print(\"Ensemble:\", ensemble_f1)\n",
    "\n",
    "print(\"\\n=== Confusion Matrices ===\")\n",
    "print('Decision Tree:\\n', dt_cm )\n",
    "print(\"\\nBayesian Model:\\n\", bayes_cm)\n",
    "print(\"\\nCNN:\\n\", cnn_cm)\n",
    "print(\"\\nEnsemble:\\n\", ensemble_cm)\n"
   ]
  },
  {
   "cell_type": "code",
   "execution_count": null,
   "metadata": {
    "trusted": true
   },
   "outputs": [],
   "source": []
  }
 ],
 "metadata": {
  "kaggle": {
   "accelerator": "gpu",
   "dataSources": [],
   "dockerImageVersionId": 30919,
   "isGpuEnabled": true,
   "isInternetEnabled": true,
   "language": "python",
   "sourceType": "notebook"
  },
  "kernelspec": {
   "display_name": "Python 3",
   "language": "python",
   "name": "python3"
  },
  "language_info": {
   "codemirror_mode": {
    "name": "ipython",
    "version": 3
   },
   "file_extension": ".py",
   "mimetype": "text/x-python",
   "name": "python",
   "nbconvert_exporter": "python",
   "pygments_lexer": "ipython3",
   "version": "3.10.12"
  }
 },
 "nbformat": 4,
 "nbformat_minor": 4
}
